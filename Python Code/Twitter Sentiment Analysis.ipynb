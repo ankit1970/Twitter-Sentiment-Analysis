{
 "cells": [
  {
   "cell_type": "markdown",
   "id": "89e0a89c",
   "metadata": {},
   "source": [
    "# Twitter Sentiment Analysis\n",
    "\n",
    "**The Project aims to analyse sentiments of around 1.6 million tweets data. Dataset \"Sentiment 140 dataset\" is taken from Kaggle for the sentiment analysis. In this I have first performed exploratory data analysis on dataset then use Natural Language Toolkit(NLTK) for data preprocessing and Term Frequency- Inverse Document Frequency (TF-IDF). The performance of these classifiers is then evaluated using accuracy and F1 Scores.**\n",
    "\n",
    "### Target is to develope most suitable and accurate machine learning model."
   ]
  },
  {
   "cell_type": "markdown",
   "id": "d94293aa",
   "metadata": {},
   "source": [
    "### Importing Required Python libraries"
   ]
  },
  {
   "cell_type": "code",
   "execution_count": 1,
   "id": "ed670e09",
   "metadata": {},
   "outputs": [],
   "source": [
    "# import libraries\n",
    "import pandas as pd\n",
    "import matplotlib.pyplot as plt\n",
    "import numpy as np\n",
    "import warnings\n",
    "warnings.filterwarnings('ignore')\n",
    "\n",
    "import os\n",
    "for dirname, _, filenames in os.walk('/kaggle/input'):\n",
    "    for filename in filenames:\n",
    "        print(os.path.join(dirname, filename))"
   ]
  },
  {
   "cell_type": "markdown",
   "id": "3515636e",
   "metadata": {},
   "source": [
    "### Loading dataset"
   ]
  },
  {
   "cell_type": "code",
   "execution_count": 2,
   "id": "5d94afda",
   "metadata": {},
   "outputs": [
    {
     "data": {
      "text/html": [
       "<div>\n",
       "<style scoped>\n",
       "    .dataframe tbody tr th:only-of-type {\n",
       "        vertical-align: middle;\n",
       "    }\n",
       "\n",
       "    .dataframe tbody tr th {\n",
       "        vertical-align: top;\n",
       "    }\n",
       "\n",
       "    .dataframe thead th {\n",
       "        text-align: right;\n",
       "    }\n",
       "</style>\n",
       "<table border=\"1\" class=\"dataframe\">\n",
       "  <thead>\n",
       "    <tr style=\"text-align: right;\">\n",
       "      <th></th>\n",
       "      <th>0</th>\n",
       "      <th>1467810369</th>\n",
       "      <th>Mon Apr 06 22:19:45 PDT 2009</th>\n",
       "      <th>NO_QUERY</th>\n",
       "      <th>_TheSpecialOne_</th>\n",
       "      <th>@switchfoot http://twitpic.com/2y1zl - Awww, that's a bummer.  You shoulda got David Carr of Third Day to do it. ;D</th>\n",
       "    </tr>\n",
       "  </thead>\n",
       "  <tbody>\n",
       "    <tr>\n",
       "      <th>0</th>\n",
       "      <td>0</td>\n",
       "      <td>1467810672</td>\n",
       "      <td>Mon Apr 06 22:19:49 PDT 2009</td>\n",
       "      <td>NO_QUERY</td>\n",
       "      <td>scotthamilton</td>\n",
       "      <td>is upset that he can't update his Facebook by ...</td>\n",
       "    </tr>\n",
       "    <tr>\n",
       "      <th>1</th>\n",
       "      <td>0</td>\n",
       "      <td>1467810917</td>\n",
       "      <td>Mon Apr 06 22:19:53 PDT 2009</td>\n",
       "      <td>NO_QUERY</td>\n",
       "      <td>mattycus</td>\n",
       "      <td>@Kenichan I dived many times for the ball. Man...</td>\n",
       "    </tr>\n",
       "    <tr>\n",
       "      <th>2</th>\n",
       "      <td>0</td>\n",
       "      <td>1467811184</td>\n",
       "      <td>Mon Apr 06 22:19:57 PDT 2009</td>\n",
       "      <td>NO_QUERY</td>\n",
       "      <td>ElleCTF</td>\n",
       "      <td>my whole body feels itchy and like its on fire</td>\n",
       "    </tr>\n",
       "    <tr>\n",
       "      <th>3</th>\n",
       "      <td>0</td>\n",
       "      <td>1467811193</td>\n",
       "      <td>Mon Apr 06 22:19:57 PDT 2009</td>\n",
       "      <td>NO_QUERY</td>\n",
       "      <td>Karoli</td>\n",
       "      <td>@nationwideclass no, it's not behaving at all....</td>\n",
       "    </tr>\n",
       "    <tr>\n",
       "      <th>4</th>\n",
       "      <td>0</td>\n",
       "      <td>1467811372</td>\n",
       "      <td>Mon Apr 06 22:20:00 PDT 2009</td>\n",
       "      <td>NO_QUERY</td>\n",
       "      <td>joy_wolf</td>\n",
       "      <td>@Kwesidei not the whole crew</td>\n",
       "    </tr>\n",
       "  </tbody>\n",
       "</table>\n",
       "</div>"
      ],
      "text/plain": [
       "   0  1467810369  Mon Apr 06 22:19:45 PDT 2009  NO_QUERY _TheSpecialOne_  \\\n",
       "0  0  1467810672  Mon Apr 06 22:19:49 PDT 2009  NO_QUERY   scotthamilton   \n",
       "1  0  1467810917  Mon Apr 06 22:19:53 PDT 2009  NO_QUERY        mattycus   \n",
       "2  0  1467811184  Mon Apr 06 22:19:57 PDT 2009  NO_QUERY         ElleCTF   \n",
       "3  0  1467811193  Mon Apr 06 22:19:57 PDT 2009  NO_QUERY          Karoli   \n",
       "4  0  1467811372  Mon Apr 06 22:20:00 PDT 2009  NO_QUERY        joy_wolf   \n",
       "\n",
       "  @switchfoot http://twitpic.com/2y1zl - Awww, that's a bummer.  You shoulda got David Carr of Third Day to do it. ;D  \n",
       "0  is upset that he can't update his Facebook by ...                                                                   \n",
       "1  @Kenichan I dived many times for the ball. Man...                                                                   \n",
       "2    my whole body feels itchy and like its on fire                                                                    \n",
       "3  @nationwideclass no, it's not behaving at all....                                                                   \n",
       "4                      @Kwesidei not the whole crew                                                                    "
      ]
     },
     "execution_count": 2,
     "metadata": {},
     "output_type": "execute_result"
    }
   ],
   "source": [
    "# Importing the dataset\n",
    "#DATASET_COLUMNS=['target','ids','date','flag','user','text']\n",
    "DATASET_ENCODING = \"ISO-8859-1\"\n",
    "data = pd.read_csv('Project_Data.csv', encoding=DATASET_ENCODING)\n",
    "data.head(5)"
   ]
  },
  {
   "cell_type": "markdown",
   "id": "68d1ecb3",
   "metadata": {},
   "source": [
    "### Let's give header to dataset columns"
   ]
  },
  {
   "cell_type": "code",
   "execution_count": 3,
   "id": "71bef701",
   "metadata": {},
   "outputs": [
    {
     "data": {
      "text/html": [
       "<div>\n",
       "<style scoped>\n",
       "    .dataframe tbody tr th:only-of-type {\n",
       "        vertical-align: middle;\n",
       "    }\n",
       "\n",
       "    .dataframe tbody tr th {\n",
       "        vertical-align: top;\n",
       "    }\n",
       "\n",
       "    .dataframe thead th {\n",
       "        text-align: right;\n",
       "    }\n",
       "</style>\n",
       "<table border=\"1\" class=\"dataframe\">\n",
       "  <thead>\n",
       "    <tr style=\"text-align: right;\">\n",
       "      <th></th>\n",
       "      <th>Target</th>\n",
       "      <th>ids</th>\n",
       "      <th>Date</th>\n",
       "      <th>Flag</th>\n",
       "      <th>User</th>\n",
       "      <th>Text</th>\n",
       "    </tr>\n",
       "  </thead>\n",
       "  <tbody>\n",
       "    <tr>\n",
       "      <th>0</th>\n",
       "      <td>0</td>\n",
       "      <td>1467810672</td>\n",
       "      <td>Mon Apr 06 22:19:49 PDT 2009</td>\n",
       "      <td>NO_QUERY</td>\n",
       "      <td>scotthamilton</td>\n",
       "      <td>is upset that he can't update his Facebook by ...</td>\n",
       "    </tr>\n",
       "    <tr>\n",
       "      <th>1</th>\n",
       "      <td>0</td>\n",
       "      <td>1467810917</td>\n",
       "      <td>Mon Apr 06 22:19:53 PDT 2009</td>\n",
       "      <td>NO_QUERY</td>\n",
       "      <td>mattycus</td>\n",
       "      <td>@Kenichan I dived many times for the ball. Man...</td>\n",
       "    </tr>\n",
       "    <tr>\n",
       "      <th>2</th>\n",
       "      <td>0</td>\n",
       "      <td>1467811184</td>\n",
       "      <td>Mon Apr 06 22:19:57 PDT 2009</td>\n",
       "      <td>NO_QUERY</td>\n",
       "      <td>ElleCTF</td>\n",
       "      <td>my whole body feels itchy and like its on fire</td>\n",
       "    </tr>\n",
       "    <tr>\n",
       "      <th>3</th>\n",
       "      <td>0</td>\n",
       "      <td>1467811193</td>\n",
       "      <td>Mon Apr 06 22:19:57 PDT 2009</td>\n",
       "      <td>NO_QUERY</td>\n",
       "      <td>Karoli</td>\n",
       "      <td>@nationwideclass no, it's not behaving at all....</td>\n",
       "    </tr>\n",
       "    <tr>\n",
       "      <th>4</th>\n",
       "      <td>0</td>\n",
       "      <td>1467811372</td>\n",
       "      <td>Mon Apr 06 22:20:00 PDT 2009</td>\n",
       "      <td>NO_QUERY</td>\n",
       "      <td>joy_wolf</td>\n",
       "      <td>@Kwesidei not the whole crew</td>\n",
       "    </tr>\n",
       "    <tr>\n",
       "      <th>...</th>\n",
       "      <td>...</td>\n",
       "      <td>...</td>\n",
       "      <td>...</td>\n",
       "      <td>...</td>\n",
       "      <td>...</td>\n",
       "      <td>...</td>\n",
       "    </tr>\n",
       "    <tr>\n",
       "      <th>1599994</th>\n",
       "      <td>4</td>\n",
       "      <td>2193601966</td>\n",
       "      <td>Tue Jun 16 08:40:49 PDT 2009</td>\n",
       "      <td>NO_QUERY</td>\n",
       "      <td>AmandaMarie1028</td>\n",
       "      <td>Just woke up. Having no school is the best fee...</td>\n",
       "    </tr>\n",
       "    <tr>\n",
       "      <th>1599995</th>\n",
       "      <td>4</td>\n",
       "      <td>2193601969</td>\n",
       "      <td>Tue Jun 16 08:40:49 PDT 2009</td>\n",
       "      <td>NO_QUERY</td>\n",
       "      <td>TheWDBoards</td>\n",
       "      <td>TheWDB.com - Very cool to hear old Walt interv...</td>\n",
       "    </tr>\n",
       "    <tr>\n",
       "      <th>1599996</th>\n",
       "      <td>4</td>\n",
       "      <td>2193601991</td>\n",
       "      <td>Tue Jun 16 08:40:49 PDT 2009</td>\n",
       "      <td>NO_QUERY</td>\n",
       "      <td>bpbabe</td>\n",
       "      <td>Are you ready for your MoJo Makeover? Ask me f...</td>\n",
       "    </tr>\n",
       "    <tr>\n",
       "      <th>1599997</th>\n",
       "      <td>4</td>\n",
       "      <td>2193602064</td>\n",
       "      <td>Tue Jun 16 08:40:49 PDT 2009</td>\n",
       "      <td>NO_QUERY</td>\n",
       "      <td>tinydiamondz</td>\n",
       "      <td>Happy 38th Birthday to my boo of alll time!!! ...</td>\n",
       "    </tr>\n",
       "    <tr>\n",
       "      <th>1599998</th>\n",
       "      <td>4</td>\n",
       "      <td>2193602129</td>\n",
       "      <td>Tue Jun 16 08:40:50 PDT 2009</td>\n",
       "      <td>NO_QUERY</td>\n",
       "      <td>RyanTrevMorris</td>\n",
       "      <td>happy #charitytuesday @theNSPCC @SparksCharity...</td>\n",
       "    </tr>\n",
       "  </tbody>\n",
       "</table>\n",
       "<p>1599999 rows × 6 columns</p>\n",
       "</div>"
      ],
      "text/plain": [
       "         Target         ids                          Date      Flag  \\\n",
       "0             0  1467810672  Mon Apr 06 22:19:49 PDT 2009  NO_QUERY   \n",
       "1             0  1467810917  Mon Apr 06 22:19:53 PDT 2009  NO_QUERY   \n",
       "2             0  1467811184  Mon Apr 06 22:19:57 PDT 2009  NO_QUERY   \n",
       "3             0  1467811193  Mon Apr 06 22:19:57 PDT 2009  NO_QUERY   \n",
       "4             0  1467811372  Mon Apr 06 22:20:00 PDT 2009  NO_QUERY   \n",
       "...         ...         ...                           ...       ...   \n",
       "1599994       4  2193601966  Tue Jun 16 08:40:49 PDT 2009  NO_QUERY   \n",
       "1599995       4  2193601969  Tue Jun 16 08:40:49 PDT 2009  NO_QUERY   \n",
       "1599996       4  2193601991  Tue Jun 16 08:40:49 PDT 2009  NO_QUERY   \n",
       "1599997       4  2193602064  Tue Jun 16 08:40:49 PDT 2009  NO_QUERY   \n",
       "1599998       4  2193602129  Tue Jun 16 08:40:50 PDT 2009  NO_QUERY   \n",
       "\n",
       "                    User                                               Text  \n",
       "0          scotthamilton  is upset that he can't update his Facebook by ...  \n",
       "1               mattycus  @Kenichan I dived many times for the ball. Man...  \n",
       "2                ElleCTF    my whole body feels itchy and like its on fire   \n",
       "3                 Karoli  @nationwideclass no, it's not behaving at all....  \n",
       "4               joy_wolf                      @Kwesidei not the whole crew   \n",
       "...                  ...                                                ...  \n",
       "1599994  AmandaMarie1028  Just woke up. Having no school is the best fee...  \n",
       "1599995      TheWDBoards  TheWDB.com - Very cool to hear old Walt interv...  \n",
       "1599996           bpbabe  Are you ready for your MoJo Makeover? Ask me f...  \n",
       "1599997     tinydiamondz  Happy 38th Birthday to my boo of alll time!!! ...  \n",
       "1599998   RyanTrevMorris  happy #charitytuesday @theNSPCC @SparksCharity...  \n",
       "\n",
       "[1599999 rows x 6 columns]"
      ]
     },
     "execution_count": 3,
     "metadata": {},
     "output_type": "execute_result"
    }
   ],
   "source": [
    "data.columns = ['Target','ids','Date','Flag','User','Text']\n",
    "data"
   ]
  },
  {
   "cell_type": "markdown",
   "id": "3c511e97",
   "metadata": {},
   "source": [
    "### Getting Dataset Shape"
   ]
  },
  {
   "cell_type": "code",
   "execution_count": 4,
   "id": "5cd692e9",
   "metadata": {},
   "outputs": [
    {
     "name": "stdout",
     "output_type": "stream",
     "text": [
      "The shape of Data is :  (1599999, 6)\n"
     ]
    }
   ],
   "source": [
    "print(\"The shape of Data is : \",data.shape)"
   ]
  },
  {
   "cell_type": "markdown",
   "id": "99da347e",
   "metadata": {},
   "source": [
    "### Performing EDA on the dataset"
   ]
  },
  {
   "cell_type": "code",
   "execution_count": 5,
   "id": "c5297162",
   "metadata": {},
   "outputs": [
    {
     "data": {
      "text/plain": [
       "Target    1599999\n",
       "ids       1599999\n",
       "Date      1599999\n",
       "Flag      1599999\n",
       "User      1599999\n",
       "Text      1599999\n",
       "dtype: int64"
      ]
     },
     "execution_count": 5,
     "metadata": {},
     "output_type": "execute_result"
    }
   ],
   "source": [
    "# count of data\n",
    "data.count()"
   ]
  },
  {
   "cell_type": "code",
   "execution_count": 6,
   "id": "ce47e6e6",
   "metadata": {},
   "outputs": [
    {
     "data": {
      "text/plain": [
       "Target    0\n",
       "ids       0\n",
       "Date      0\n",
       "Flag      0\n",
       "User      0\n",
       "Text      0\n",
       "dtype: int64"
      ]
     },
     "execution_count": 6,
     "metadata": {},
     "output_type": "execute_result"
    }
   ],
   "source": [
    "# Check data having missing values or not \n",
    "data.isnull().sum()"
   ]
  },
  {
   "cell_type": "code",
   "execution_count": 7,
   "id": "89f3ae8b",
   "metadata": {},
   "outputs": [
    {
     "name": "stdout",
     "output_type": "stream",
     "text": [
      "<class 'pandas.core.frame.DataFrame'>\n",
      "RangeIndex: 1599999 entries, 0 to 1599998\n",
      "Data columns (total 6 columns):\n",
      " #   Column  Non-Null Count    Dtype \n",
      "---  ------  --------------    ----- \n",
      " 0   Target  1599999 non-null  int64 \n",
      " 1   ids     1599999 non-null  int64 \n",
      " 2   Date    1599999 non-null  object\n",
      " 3   Flag    1599999 non-null  object\n",
      " 4   User    1599999 non-null  object\n",
      " 5   Text    1599999 non-null  object\n",
      "dtypes: int64(2), object(4)\n",
      "memory usage: 73.2+ MB\n"
     ]
    }
   ],
   "source": [
    "# check info of data\n",
    "data.info()"
   ]
  },
  {
   "cell_type": "markdown",
   "id": "6ba0cc7e",
   "metadata": {},
   "source": [
    "### _Conclusion:_\n",
    "**From this I get to know there are no missing values as well as 2 integer and 4 object datatype but date should be in datetime format so I will use pd.datetime().**"
   ]
  },
  {
   "cell_type": "code",
   "execution_count": 8,
   "id": "819a37d8",
   "metadata": {},
   "outputs": [],
   "source": [
    "data['Date']=  pd.to_datetime(data['Date'], infer_datetime_format=True)"
   ]
  },
  {
   "cell_type": "code",
   "execution_count": 9,
   "id": "87b66bac",
   "metadata": {},
   "outputs": [
    {
     "name": "stdout",
     "output_type": "stream",
     "text": [
      "<class 'pandas.core.frame.DataFrame'>\n",
      "RangeIndex: 1599999 entries, 0 to 1599998\n",
      "Data columns (total 6 columns):\n",
      " #   Column  Non-Null Count    Dtype         \n",
      "---  ------  --------------    -----         \n",
      " 0   Target  1599999 non-null  int64         \n",
      " 1   ids     1599999 non-null  int64         \n",
      " 2   Date    1599999 non-null  datetime64[ns]\n",
      " 3   Flag    1599999 non-null  object        \n",
      " 4   User    1599999 non-null  object        \n",
      " 5   Text    1599999 non-null  object        \n",
      "dtypes: datetime64[ns](1), int64(2), object(3)\n",
      "memory usage: 73.2+ MB\n"
     ]
    }
   ],
   "source": [
    "# again check info to see changes are done or not\n",
    "data.info()"
   ]
  },
  {
   "cell_type": "code",
   "execution_count": 10,
   "id": "78b20e68",
   "metadata": {},
   "outputs": [
    {
     "data": {
      "text/html": [
       "<div>\n",
       "<style scoped>\n",
       "    .dataframe tbody tr th:only-of-type {\n",
       "        vertical-align: middle;\n",
       "    }\n",
       "\n",
       "    .dataframe tbody tr th {\n",
       "        vertical-align: top;\n",
       "    }\n",
       "\n",
       "    .dataframe thead th {\n",
       "        text-align: right;\n",
       "    }\n",
       "</style>\n",
       "<table border=\"1\" class=\"dataframe\">\n",
       "  <thead>\n",
       "    <tr style=\"text-align: right;\">\n",
       "      <th></th>\n",
       "      <th>Target</th>\n",
       "      <th>ids</th>\n",
       "      <th>Date</th>\n",
       "      <th>Flag</th>\n",
       "      <th>User</th>\n",
       "      <th>Text</th>\n",
       "    </tr>\n",
       "  </thead>\n",
       "  <tbody>\n",
       "    <tr>\n",
       "      <th>0</th>\n",
       "      <td>0</td>\n",
       "      <td>1467810672</td>\n",
       "      <td>2009-04-06 22:19:49</td>\n",
       "      <td>NO_QUERY</td>\n",
       "      <td>scotthamilton</td>\n",
       "      <td>is upset that he can't update his Facebook by ...</td>\n",
       "    </tr>\n",
       "    <tr>\n",
       "      <th>1</th>\n",
       "      <td>0</td>\n",
       "      <td>1467810917</td>\n",
       "      <td>2009-04-06 22:19:53</td>\n",
       "      <td>NO_QUERY</td>\n",
       "      <td>mattycus</td>\n",
       "      <td>@Kenichan I dived many times for the ball. Man...</td>\n",
       "    </tr>\n",
       "    <tr>\n",
       "      <th>2</th>\n",
       "      <td>0</td>\n",
       "      <td>1467811184</td>\n",
       "      <td>2009-04-06 22:19:57</td>\n",
       "      <td>NO_QUERY</td>\n",
       "      <td>ElleCTF</td>\n",
       "      <td>my whole body feels itchy and like its on fire</td>\n",
       "    </tr>\n",
       "    <tr>\n",
       "      <th>3</th>\n",
       "      <td>0</td>\n",
       "      <td>1467811193</td>\n",
       "      <td>2009-04-06 22:19:57</td>\n",
       "      <td>NO_QUERY</td>\n",
       "      <td>Karoli</td>\n",
       "      <td>@nationwideclass no, it's not behaving at all....</td>\n",
       "    </tr>\n",
       "    <tr>\n",
       "      <th>4</th>\n",
       "      <td>0</td>\n",
       "      <td>1467811372</td>\n",
       "      <td>2009-04-06 22:20:00</td>\n",
       "      <td>NO_QUERY</td>\n",
       "      <td>joy_wolf</td>\n",
       "      <td>@Kwesidei not the whole crew</td>\n",
       "    </tr>\n",
       "  </tbody>\n",
       "</table>\n",
       "</div>"
      ],
      "text/plain": [
       "   Target         ids                Date      Flag           User  \\\n",
       "0       0  1467810672 2009-04-06 22:19:49  NO_QUERY  scotthamilton   \n",
       "1       0  1467810917 2009-04-06 22:19:53  NO_QUERY       mattycus   \n",
       "2       0  1467811184 2009-04-06 22:19:57  NO_QUERY        ElleCTF   \n",
       "3       0  1467811193 2009-04-06 22:19:57  NO_QUERY         Karoli   \n",
       "4       0  1467811372 2009-04-06 22:20:00  NO_QUERY       joy_wolf   \n",
       "\n",
       "                                                Text  \n",
       "0  is upset that he can't update his Facebook by ...  \n",
       "1  @Kenichan I dived many times for the ball. Man...  \n",
       "2    my whole body feels itchy and like its on fire   \n",
       "3  @nationwideclass no, it's not behaving at all....  \n",
       "4                      @Kwesidei not the whole crew   "
      ]
     },
     "execution_count": 10,
     "metadata": {},
     "output_type": "execute_result"
    }
   ],
   "source": [
    "# see final data after changes \n",
    "data.head()"
   ]
  },
  {
   "cell_type": "markdown",
   "id": "c386c9ce",
   "metadata": {},
   "source": [
    "### _Conclusion:_\n",
    "**Date object is converted datetime format.**"
   ]
  },
  {
   "cell_type": "code",
   "execution_count": 11,
   "id": "0e48967b",
   "metadata": {},
   "outputs": [
    {
     "data": {
      "text/plain": [
       "lost_dog           549\n",
       "webwoke            345\n",
       "tweetpet           310\n",
       "SallytheShizzle    281\n",
       "VioletsCRUK        279\n",
       "                  ... \n",
       "iheartrobpattz       1\n",
       "67trinity            1\n",
       "Sibby                1\n",
       "mAnyA_15             1\n",
       "bpbabe               1\n",
       "Name: User, Length: 659775, dtype: int64"
      ]
     },
     "execution_count": 11,
     "metadata": {},
     "output_type": "execute_result"
    }
   ],
   "source": [
    "# find most frequent user tweet\n",
    "data[\"User\"].value_counts()"
   ]
  },
  {
   "cell_type": "markdown",
   "id": "4c912104",
   "metadata": {},
   "source": [
    "### _Conclusion:_\n",
    "**Here we can see that above 300 (lost_dog,webwoke,tweetpet) this user tweet most.**\n"
   ]
  },
  {
   "cell_type": "code",
   "execution_count": 12,
   "id": "d5605fd6",
   "metadata": {},
   "outputs": [
    {
     "data": {
      "text/html": [
       "<div>\n",
       "<style scoped>\n",
       "    .dataframe tbody tr th:only-of-type {\n",
       "        vertical-align: middle;\n",
       "    }\n",
       "\n",
       "    .dataframe tbody tr th {\n",
       "        vertical-align: top;\n",
       "    }\n",
       "\n",
       "    .dataframe thead th {\n",
       "        text-align: right;\n",
       "    }\n",
       "</style>\n",
       "<table border=\"1\" class=\"dataframe\">\n",
       "  <thead>\n",
       "    <tr style=\"text-align: right;\">\n",
       "      <th></th>\n",
       "      <th>Target</th>\n",
       "    </tr>\n",
       "  </thead>\n",
       "  <tbody>\n",
       "    <tr>\n",
       "      <th>count</th>\n",
       "      <td>1599999.0</td>\n",
       "    </tr>\n",
       "    <tr>\n",
       "      <th>mean</th>\n",
       "      <td>2.0</td>\n",
       "    </tr>\n",
       "    <tr>\n",
       "      <th>std</th>\n",
       "      <td>2.0</td>\n",
       "    </tr>\n",
       "    <tr>\n",
       "      <th>min</th>\n",
       "      <td>0.0</td>\n",
       "    </tr>\n",
       "    <tr>\n",
       "      <th>25%</th>\n",
       "      <td>0.0</td>\n",
       "    </tr>\n",
       "    <tr>\n",
       "      <th>50%</th>\n",
       "      <td>4.0</td>\n",
       "    </tr>\n",
       "    <tr>\n",
       "      <th>75%</th>\n",
       "      <td>4.0</td>\n",
       "    </tr>\n",
       "    <tr>\n",
       "      <th>max</th>\n",
       "      <td>4.0</td>\n",
       "    </tr>\n",
       "  </tbody>\n",
       "</table>\n",
       "</div>"
      ],
      "text/plain": [
       "          Target\n",
       "count  1599999.0\n",
       "mean         2.0\n",
       "std          2.0\n",
       "min          0.0\n",
       "25%          0.0\n",
       "50%          4.0\n",
       "75%          4.0\n",
       "max          4.0"
      ]
     },
     "execution_count": 12,
     "metadata": {},
     "output_type": "execute_result"
    }
   ],
   "source": [
    "# summary statastic of data\n",
    "round(data[[\"Target\"]].describe(),2)"
   ]
  },
  {
   "cell_type": "markdown",
   "id": "e731ad15",
   "metadata": {},
   "source": [
    "### _Conclusion:_\n",
    "**Target value 0 means \"Negative tweet\" and 4 means \"Positive tweet.\"**"
   ]
  },
  {
   "cell_type": "code",
   "execution_count": 13,
   "id": "67f2931a",
   "metadata": {},
   "outputs": [
    {
     "data": {
      "text/plain": [
       "4    800000\n",
       "0    799999\n",
       "Name: Target, dtype: int64"
      ]
     },
     "execution_count": 13,
     "metadata": {},
     "output_type": "execute_result"
    }
   ],
   "source": [
    "# count of target variable\n",
    "data[\"Target\"].value_counts()"
   ]
  },
  {
   "cell_type": "markdown",
   "id": "c45206d2",
   "metadata": {},
   "source": [
    "### lets set Target 4 as positive tweets and 0 as negative"
   ]
  },
  {
   "cell_type": "code",
   "execution_count": 14,
   "id": "9638236d",
   "metadata": {},
   "outputs": [],
   "source": [
    "# lets set Target 4 as positive tweets and 0 as negative\n",
    "data[\"Target\"] = data[\"Target\"].replace(4,\"Positive\")\n",
    "data[\"Target\"] = data[\"Target\"].replace(0,\"Negative\")"
   ]
  },
  {
   "cell_type": "markdown",
   "id": "32b5323e",
   "metadata": {},
   "source": [
    "### Data Visualization"
   ]
  },
  {
   "cell_type": "code",
   "execution_count": 15,
   "id": "e76ba1aa",
   "metadata": {},
   "outputs": [
    {
     "data": {
      "text/plain": [
       "<Figure size 1440x720 with 0 Axes>"
      ]
     },
     "metadata": {},
     "output_type": "display_data"
    },
    {
     "data": {
      "image/png": "[encoded data removed]",
      "text/plain": [
       "<Figure size 432x288 with 1 Axes>"
      ]
     },
     "metadata": {
      "needs_background": "light"
     },
     "output_type": "display_data"
    }
   ],
   "source": [
    "# Plotting the distribution for dataset.\n",
    "\n",
    "#set figure size\n",
    "fig = plt.figure(figsize = (20, 10))\n",
    "\n",
    "ax = data.groupby(\"Target\").count().plot(kind='bar', title='Distribution of data',\n",
    "                                         legend=True)\n",
    "ax.set_xticklabels(['Negative','Positive'], rotation=0)\n",
    "\n",
    "# Storing data in lists.\n",
    "text, sentiment = list(data['Text']), list(data[\"Target\"])"
   ]
  },
  {
   "cell_type": "markdown",
   "id": "c7174fc9",
   "metadata": {},
   "source": [
    "### _Conclusion:_\n",
    "**Distribution of Positive and Negative tweets is approximatey same.**"
   ]
  },
  {
   "cell_type": "code",
   "execution_count": 16,
   "id": "e5ef4c7f",
   "metadata": {},
   "outputs": [
    {
     "data": {
      "text/plain": [
       "<AxesSubplot:xlabel='Target', ylabel='count'>"
      ]
     },
     "execution_count": 16,
     "metadata": {},
     "output_type": "execute_result"
    },
    {
     "data": {
      "image/png": "[encoded data removed]",
      "text/plain": [
       "<Figure size 432x288 with 1 Axes>"
      ]
     },
     "metadata": {
      "needs_background": "light"
     },
     "output_type": "display_data"
    }
   ],
   "source": [
    "# count plot for target variable\n",
    "import  seaborn as sns\n",
    "sns.countplot(x='Target', data=data)"
   ]
  },
  {
   "cell_type": "markdown",
   "id": "6ec2d362",
   "metadata": {},
   "source": [
    "### _Conclusion:_\n",
    "- **Again we got similar distribution of positive and negative tweets around target variable.**\n",
    "- **I must say data is varient it constantly change last time output shows that most of the tweets are positive and now there are almost same number of negative tweets.**"
   ]
  },
  {
   "cell_type": "markdown",
   "id": "ce335150",
   "metadata": {},
   "source": [
    "### Plotting pie chart for Distribution of negative and positive Tweets"
   ]
  },
  {
   "cell_type": "code",
   "execution_count": 17,
   "id": "4c56acae",
   "metadata": {},
   "outputs": [
    {
     "data": {
      "image/png": "[encoded data removed]",
      "text/plain": [
       "<Figure size 504x504 with 1 Axes>"
      ]
     },
     "metadata": {},
     "output_type": "display_data"
    }
   ],
   "source": [
    "# plot pie for Distribution of negative and positive Tweets\n",
    "\n",
    "plt.style.use(\"dark_background\")\n",
    "labels = ['Positive', 'Negative']\n",
    "size = data['Target'].value_counts()\n",
    "colors = plt.cm.Wistia(np.linspace(0, 1, 2))\n",
    "explode = [0, 0.1]\n",
    "plt.rcParams['figure.figsize'] = (7, 7)\n",
    "plt.pie(size,labels=labels, colors = colors, explode = explode, \n",
    "        shadow = True, startangle = 90)\n",
    "plt.title('Distribution of Type', fontsize = 25)\n",
    "plt.legend()\n",
    "plt.show()"
   ]
  },
  {
   "cell_type": "code",
   "execution_count": 18,
   "id": "443c6df9",
   "metadata": {},
   "outputs": [
    {
     "data": {
      "image/png": "[encoded data removed]",
      "text/plain": [
       "<Figure size 504x504 with 1 Axes>"
      ]
     },
     "metadata": {},
     "output_type": "display_data"
    }
   ],
   "source": [
    "# plt.style.use(\"dark_background\")\n",
    "data['Target'].value_counts().plot.pie(autopct='%1.1f%%',shadow=True,figsize=(7,7))\n",
    "plt.show()"
   ]
  },
  {
   "cell_type": "markdown",
   "id": "7a60cf8a",
   "metadata": {},
   "source": [
    "### Data preprocessing"
   ]
  },
  {
   "cell_type": "code",
   "execution_count": 19,
   "id": "4663b58e",
   "metadata": {},
   "outputs": [
    {
     "data": {
      "text/html": [
       "<div>\n",
       "<style scoped>\n",
       "    .dataframe tbody tr th:only-of-type {\n",
       "        vertical-align: middle;\n",
       "    }\n",
       "\n",
       "    .dataframe tbody tr th {\n",
       "        vertical-align: top;\n",
       "    }\n",
       "\n",
       "    .dataframe thead th {\n",
       "        text-align: right;\n",
       "    }\n",
       "</style>\n",
       "<table border=\"1\" class=\"dataframe\">\n",
       "  <thead>\n",
       "    <tr style=\"text-align: right;\">\n",
       "      <th></th>\n",
       "      <th>Text</th>\n",
       "      <th>Target</th>\n",
       "    </tr>\n",
       "  </thead>\n",
       "  <tbody>\n",
       "    <tr>\n",
       "      <th>0</th>\n",
       "      <td>is upset that he can't update his Facebook by ...</td>\n",
       "      <td>Negative</td>\n",
       "    </tr>\n",
       "    <tr>\n",
       "      <th>1</th>\n",
       "      <td>@Kenichan I dived many times for the ball. Man...</td>\n",
       "      <td>Negative</td>\n",
       "    </tr>\n",
       "    <tr>\n",
       "      <th>2</th>\n",
       "      <td>my whole body feels itchy and like its on fire</td>\n",
       "      <td>Negative</td>\n",
       "    </tr>\n",
       "    <tr>\n",
       "      <th>3</th>\n",
       "      <td>@nationwideclass no, it's not behaving at all....</td>\n",
       "      <td>Negative</td>\n",
       "    </tr>\n",
       "    <tr>\n",
       "      <th>4</th>\n",
       "      <td>@Kwesidei not the whole crew</td>\n",
       "      <td>Negative</td>\n",
       "    </tr>\n",
       "  </tbody>\n",
       "</table>\n",
       "</div>"
      ],
      "text/plain": [
       "                                                Text    Target\n",
       "0  is upset that he can't update his Facebook by ...  Negative\n",
       "1  @Kenichan I dived many times for the ball. Man...  Negative\n",
       "2    my whole body feels itchy and like its on fire   Negative\n",
       "3  @nationwideclass no, it's not behaving at all....  Negative\n",
       "4                      @Kwesidei not the whole crew   Negative"
      ]
     },
     "execution_count": 19,
     "metadata": {},
     "output_type": "execute_result"
    }
   ],
   "source": [
    "# 5.1: Selecting the text and Target column for our further analysis\n",
    "df  = data[[\"Text\",\"Target\"]]\n",
    "df.head()"
   ]
  },
  {
   "cell_type": "code",
   "execution_count": 20,
   "id": "92fc9eca",
   "metadata": {},
   "outputs": [],
   "source": [
    "# 5.2: Separating positive and negative tweets\n",
    "\n",
    "data_pos = df[df['Target'] == \"Positive\"]\n",
    "data_neg = df[df['Target'] == \"Negative\"]"
   ]
  },
  {
   "cell_type": "code",
   "execution_count": 21,
   "id": "37d12607",
   "metadata": {},
   "outputs": [],
   "source": [
    "# 1 fourth part of dataset\n",
    "# 1599999/4 == 399999.75"
   ]
  },
  {
   "cell_type": "code",
   "execution_count": 22,
   "id": "3a6b1233",
   "metadata": {},
   "outputs": [],
   "source": [
    "# 5.3 : Taking one-fourth of the data so we can run it on our machine easily\n",
    "\n",
    "data_pos = data_pos.iloc[:int(399999)]\n",
    "data_neg = data_neg.iloc[:int(399999)]"
   ]
  },
  {
   "cell_type": "code",
   "execution_count": 23,
   "id": "0b17f244",
   "metadata": {},
   "outputs": [
    {
     "data": {
      "text/html": [
       "<div>\n",
       "<style scoped>\n",
       "    .dataframe tbody tr th:only-of-type {\n",
       "        vertical-align: middle;\n",
       "    }\n",
       "\n",
       "    .dataframe tbody tr th {\n",
       "        vertical-align: top;\n",
       "    }\n",
       "\n",
       "    .dataframe thead th {\n",
       "        text-align: right;\n",
       "    }\n",
       "</style>\n",
       "<table border=\"1\" class=\"dataframe\">\n",
       "  <thead>\n",
       "    <tr style=\"text-align: right;\">\n",
       "      <th></th>\n",
       "      <th>Text</th>\n",
       "      <th>Target</th>\n",
       "    </tr>\n",
       "  </thead>\n",
       "  <tbody>\n",
       "    <tr>\n",
       "      <th>799999</th>\n",
       "      <td>I LOVE @Health4UandPets u guys r the best!!</td>\n",
       "      <td>Positive</td>\n",
       "    </tr>\n",
       "    <tr>\n",
       "      <th>800000</th>\n",
       "      <td>im meeting up with one of my besties tonight! ...</td>\n",
       "      <td>Positive</td>\n",
       "    </tr>\n",
       "    <tr>\n",
       "      <th>800001</th>\n",
       "      <td>@DaRealSunisaKim Thanks for the Twitter add, S...</td>\n",
       "      <td>Positive</td>\n",
       "    </tr>\n",
       "    <tr>\n",
       "      <th>800002</th>\n",
       "      <td>Being sick can be really cheap when it hurts t...</td>\n",
       "      <td>Positive</td>\n",
       "    </tr>\n",
       "    <tr>\n",
       "      <th>800003</th>\n",
       "      <td>@LovesBrooklyn2 he has that effect on everyone</td>\n",
       "      <td>Positive</td>\n",
       "    </tr>\n",
       "  </tbody>\n",
       "</table>\n",
       "</div>"
      ],
      "text/plain": [
       "                                                     Text    Target\n",
       "799999       I LOVE @Health4UandPets u guys r the best!!   Positive\n",
       "800000  im meeting up with one of my besties tonight! ...  Positive\n",
       "800001  @DaRealSunisaKim Thanks for the Twitter add, S...  Positive\n",
       "800002  Being sick can be really cheap when it hurts t...  Positive\n",
       "800003    @LovesBrooklyn2 he has that effect on everyone   Positive"
      ]
     },
     "execution_count": 23,
     "metadata": {},
     "output_type": "execute_result"
    }
   ],
   "source": [
    "# 5.4 : Combining positive and negative tweets\n",
    "\n",
    "dataset = pd.concat([data_pos, data_neg])\n",
    "dataset.head()"
   ]
  },
  {
   "cell_type": "markdown",
   "id": "74f61788",
   "metadata": {},
   "source": [
    "### Steps included in Text Pre-processing:\n",
    "\n",
    "- Step 1 -> Converting everything into lower or an upper cases.\n",
    "\n",
    "- Step 2 -> Remove all the special characters (such as @, #, !, numbers).\n",
    "\n",
    "- Step 3 -> Remove the stop words.\n",
    "\n",
    "- Step 4 -> Remove URL's\n",
    "\n",
    "- Step 5 -> Remove"
   ]
  },
  {
   "cell_type": "code",
   "execution_count": 24,
   "id": "6d6f228a",
   "metadata": {},
   "outputs": [],
   "source": [
    "# Step 5.6 - text pre-processing\n",
    "dataset['Text'] = dataset['Text'].str.lower().str.replace('[^a-z\\']', ' ') "
   ]
  },
  {
   "cell_type": "code",
   "execution_count": 25,
   "id": "87c801eb",
   "metadata": {},
   "outputs": [
    {
     "name": "stderr",
     "output_type": "stream",
     "text": [
      "[nltk_data] Downloading package stopwords to\n",
      "[nltk_data]     C:\\Users\\hp\\AppData\\Roaming\\nltk_data...\n",
      "[nltk_data]   Package stopwords is already up-to-date!\n"
     ]
    },
    {
     "data": {
      "text/plain": [
       "['i',\n",
       " 'me',\n",
       " 'my',\n",
       " 'myself',\n",
       " 'we',\n",
       " 'our',\n",
       " 'ours',\n",
       " 'ourselves',\n",
       " 'you',\n",
       " \"you're\",\n",
       " \"you've\",\n",
       " \"you'll\",\n",
       " \"you'd\",\n",
       " 'your',\n",
       " 'yours',\n",
       " 'yourself',\n",
       " 'yourselves',\n",
       " 'he',\n",
       " 'him',\n",
       " 'his',\n",
       " 'himself',\n",
       " 'she',\n",
       " \"she's\",\n",
       " 'her',\n",
       " 'hers',\n",
       " 'herself',\n",
       " 'it',\n",
       " \"it's\",\n",
       " 'its',\n",
       " 'itself',\n",
       " 'they',\n",
       " 'them',\n",
       " 'their',\n",
       " 'theirs',\n",
       " 'themselves',\n",
       " 'what',\n",
       " 'which',\n",
       " 'who',\n",
       " 'whom',\n",
       " 'this',\n",
       " 'that',\n",
       " \"that'll\",\n",
       " 'these',\n",
       " 'those',\n",
       " 'am',\n",
       " 'is',\n",
       " 'are',\n",
       " 'was',\n",
       " 'were',\n",
       " 'be',\n",
       " 'been',\n",
       " 'being',\n",
       " 'have',\n",
       " 'has',\n",
       " 'had',\n",
       " 'having',\n",
       " 'do',\n",
       " 'does',\n",
       " 'did',\n",
       " 'doing',\n",
       " 'a',\n",
       " 'an',\n",
       " 'the',\n",
       " 'and',\n",
       " 'but',\n",
       " 'if',\n",
       " 'or',\n",
       " 'because',\n",
       " 'as',\n",
       " 'until',\n",
       " 'while',\n",
       " 'of',\n",
       " 'at',\n",
       " 'by',\n",
       " 'for',\n",
       " 'with',\n",
       " 'about',\n",
       " 'against',\n",
       " 'between',\n",
       " 'into',\n",
       " 'through',\n",
       " 'during',\n",
       " 'before',\n",
       " 'after',\n",
       " 'above',\n",
       " 'below',\n",
       " 'to',\n",
       " 'from',\n",
       " 'up',\n",
       " 'down',\n",
       " 'in',\n",
       " 'out',\n",
       " 'on',\n",
       " 'off',\n",
       " 'over',\n",
       " 'under',\n",
       " 'again',\n",
       " 'further',\n",
       " 'then',\n",
       " 'once',\n",
       " 'here',\n",
       " 'there',\n",
       " 'when',\n",
       " 'where',\n",
       " 'why',\n",
       " 'how',\n",
       " 'all',\n",
       " 'any',\n",
       " 'both',\n",
       " 'each',\n",
       " 'few',\n",
       " 'more',\n",
       " 'most',\n",
       " 'other',\n",
       " 'some',\n",
       " 'such',\n",
       " 'no',\n",
       " 'nor',\n",
       " 'not',\n",
       " 'only',\n",
       " 'own',\n",
       " 'same',\n",
       " 'so',\n",
       " 'than',\n",
       " 'too',\n",
       " 'very',\n",
       " 's',\n",
       " 't',\n",
       " 'can',\n",
       " 'will',\n",
       " 'just',\n",
       " 'don',\n",
       " \"don't\",\n",
       " 'should',\n",
       " \"should've\",\n",
       " 'now',\n",
       " 'd',\n",
       " 'll',\n",
       " 'm',\n",
       " 'o',\n",
       " 're',\n",
       " 've',\n",
       " 'y',\n",
       " 'ain',\n",
       " 'aren',\n",
       " \"aren't\",\n",
       " 'couldn',\n",
       " \"couldn't\",\n",
       " 'didn',\n",
       " \"didn't\",\n",
       " 'doesn',\n",
       " \"doesn't\",\n",
       " 'hadn',\n",
       " \"hadn't\",\n",
       " 'hasn',\n",
       " \"hasn't\",\n",
       " 'haven',\n",
       " \"haven't\",\n",
       " 'isn',\n",
       " \"isn't\",\n",
       " 'ma',\n",
       " 'mightn',\n",
       " \"mightn't\",\n",
       " 'mustn',\n",
       " \"mustn't\",\n",
       " 'needn',\n",
       " \"needn't\",\n",
       " 'shan',\n",
       " \"shan't\",\n",
       " 'shouldn',\n",
       " \"shouldn't\",\n",
       " 'wasn',\n",
       " \"wasn't\",\n",
       " 'weren',\n",
       " \"weren't\",\n",
       " 'won',\n",
       " \"won't\",\n",
       " 'wouldn',\n",
       " \"wouldn't\"]"
      ]
     },
     "execution_count": 25,
     "metadata": {},
     "output_type": "execute_result"
    }
   ],
   "source": [
    "# Step 5.7 : Downloading stopwords\n",
    "import nltk\n",
    "\n",
    "nltk.download('stopwords')\n",
    "\n",
    "from nltk.corpus import stopwords\n",
    "\n",
    "stop = stopwords.words('english')\n",
    "stop"
   ]
  },
  {
   "cell_type": "code",
   "execution_count": 26,
   "id": "894dd494",
   "metadata": {},
   "outputs": [],
   "source": [
    "# Step 5.8 : Removing all the stopwords.\n",
    "# Lets create a user defined function which will split the text into a list of words \n",
    "# and then match \n",
    "# the words with the words in stop_list, and give us the output after removing stopwords.\n",
    "# Cleaning URL's\n",
    "# removing numeric\n",
    "\n",
    "\n",
    "def sw(x):\n",
    "    x = [word for word in x.split() if word not in stop]  \n",
    "    # Remove Stopwords\n",
    "    return ' '.join (x)\n",
    "    return re.sub('((www.[^s]+)|(https?://[^s]+))',' ',data)  \n",
    "    # Cleaning and removing URLs\n",
    "    dataset['Text'] = dataset['Text'].apply(lambda x: sw(x))\n",
    "    return re.sub('[0-9]+', '', data) \n",
    "    #Cleaning and removing numeric numbers\n",
    "    dataset['Text'] = dataset['Text'].apply(lambda x: sw(x))"
   ]
  },
  {
   "cell_type": "code",
   "execution_count": 27,
   "id": "8e36d9c7",
   "metadata": {},
   "outputs": [],
   "source": [
    "# Step 5.9  Applying our user defined function on text column and then storing result \n",
    "# in same column\n",
    "dataset['Text'] = dataset['Text'].apply(sw)"
   ]
  },
  {
   "cell_type": "code",
   "execution_count": 28,
   "id": "34b66dc6",
   "metadata": {},
   "outputs": [
    {
     "data": {
      "text/plain": [
       "'spring break plain city snowing'"
      ]
     },
     "execution_count": 28,
     "metadata": {},
     "output_type": "execute_result"
    }
   ],
   "source": [
    "# Lets check clean text\n",
    "dataset[\"Text\"][9]"
   ]
  },
  {
   "cell_type": "code",
   "execution_count": 29,
   "id": "1f71ce39",
   "metadata": {},
   "outputs": [],
   "source": [
    "# applying stemming\n",
    "\n",
    "import nltk\n",
    "st = nltk.PorterStemmer()\n",
    "def stemming_on_text(data):\n",
    "    text = [st.stem(word) for word in data]\n",
    "    return data\n"
   ]
  },
  {
   "cell_type": "code",
   "execution_count": 30,
   "id": "7729a419",
   "metadata": {},
   "outputs": [],
   "source": [
    "dataset['Text']= dataset['Text'].apply(lambda x: stemming_on_text(x))"
   ]
  },
  {
   "cell_type": "code",
   "execution_count": 31,
   "id": "09fce6f5",
   "metadata": {},
   "outputs": [
    {
     "data": {
      "text/plain": [
       "799999                   love health uandpets u guys r best\n",
       "800000    im meeting one besties tonight cant wait girl ...\n",
       "800001    darealsunisakim thanks twitter add sunisa got ...\n",
       "800002    sick really cheap hurts much eat real food plu...\n",
       "800003                        lovesbrooklyn effect everyone\n",
       "                                ...                        \n",
       "399994                           omjchristinaaa awwwwe wish\n",
       "399995        jonasbrothers youtube channel suspended weird\n",
       "399996                                        rray get haha\n",
       "399997                            wishing ooc right get see\n",
       "399998                                  krose oh miss chick\n",
       "Name: Text, Length: 799998, dtype: object"
      ]
     },
     "execution_count": 31,
     "metadata": {},
     "output_type": "execute_result"
    }
   ],
   "source": [
    "dataset[\"Text\"] "
   ]
  },
  {
   "cell_type": "code",
   "execution_count": 32,
   "id": "7ad4d519",
   "metadata": {},
   "outputs": [
    {
     "data": {
      "text/plain": [
       "46111.5"
      ]
     },
     "execution_count": 32,
     "metadata": {},
     "output_type": "execute_result"
    }
   ],
   "source": [
    "184446/4"
   ]
  },
  {
   "cell_type": "markdown",
   "id": "9e6ec4f8",
   "metadata": {},
   "source": [
    "## Model Preparation"
   ]
  },
  {
   "cell_type": "markdown",
   "id": "20c90f4f",
   "metadata": {},
   "source": [
    "### Transforming the Dataset Using TF-IDF Vectorizer"
   ]
  },
  {
   "cell_type": "code",
   "execution_count": 35,
   "id": "1bd7c426",
   "metadata": {},
   "outputs": [],
   "source": [
    "# using sklearn import  TfidfVectorizer\n",
    "from sklearn.feature_extraction.text import TfidfVectorizer # for creating our Bag of words\n",
    "\n",
    "# Step 6.1: Fit the TF-IDF Vectorizer\n",
    "\n",
    "vect = TfidfVectorizer(ngram_range=(1,2)).fit(df['Text'])"
   ]
  },
  {
   "cell_type": "code",
   "execution_count": null,
   "id": "b8b938cd",
   "metadata": {},
   "outputs": [],
   "source": []
  },
  {
   "cell_type": "markdown",
   "id": "df1bd44b",
   "metadata": {},
   "source": [
    "### Splitting Our Data Into Train and Test Subsets"
   ]
  },
  {
   "cell_type": "code",
   "execution_count": 36,
   "id": "ccd8f70a",
   "metadata": {},
   "outputs": [],
   "source": [
    "# split data into dependent and independent variable\n",
    "X = df['Text']\n",
    "Y = df['Target']\n",
    "X = vect.transform(X)"
   ]
  },
  {
   "cell_type": "code",
   "execution_count": 37,
   "id": "8f6c2606",
   "metadata": {},
   "outputs": [],
   "source": [
    "# Separating the data for training data and testing data\n",
    "\n",
    "from sklearn.model_selection import train_test_split\n",
    "\n",
    "x_train, x_test, y_train, y_test = train_test_split(X, Y, test_size=0.2, random_state=42)\n",
    "\n",
    "#len(x_train), len(x_test), len(y_train), len(y_test)"
   ]
  },
  {
   "cell_type": "code",
   "execution_count": 38,
   "id": "bb93bd3b",
   "metadata": {},
   "outputs": [
    {
     "name": "stdout",
     "output_type": "stream",
     "text": [
      "Number of features: 5098081\n",
      "\n",
      "First 20 features:\n",
      " ['00' '00 00' '00 01' '00 01am' '00 01s' '00 02' '00 03' '00 05' '00 05am'\n",
      " '00 06' '00 09' '00 10' '00 12' '00 13' '00 14' '00 15' '00 17' '00 18'\n",
      " '00 19' '00 20']\n"
     ]
    }
   ],
   "source": [
    "feature_names = vect.get_feature_names_out()\n",
    "print(\"Number of features: {}\\n\".format(len(feature_names)))\n",
    "print(\"First 20 features:\\n {}\".format(feature_names[:20]))"
   ]
  },
  {
   "cell_type": "markdown",
   "id": "a219315a",
   "metadata": {},
   "source": [
    "### Model 1: Logistic Regression"
   ]
  },
  {
   "cell_type": "code",
   "execution_count": 39,
   "id": "5cbde167",
   "metadata": {},
   "outputs": [],
   "source": [
    "# Build model 1 :logisticRegresion\n",
    "\n",
    "from sklearn.linear_model import LogisticRegression\n",
    "\n",
    "from sklearn.metrics import accuracy_score, classification_report, confusion_matrix, ConfusionMatrixDisplay"
   ]
  },
  {
   "cell_type": "code",
   "execution_count": 40,
   "id": "b0f8f357",
   "metadata": {},
   "outputs": [
    {
     "name": "stdout",
     "output_type": "stream",
     "text": [
      "Test accuracy: 81.76%\n",
      "confusion matrix : \n"
     ]
    },
    {
     "data": {
      "text/plain": [
       "array([[127909,  26772],\n",
       "       [ 31585, 133734]], dtype=int64)"
      ]
     },
     "execution_count": 40,
     "metadata": {},
     "output_type": "execute_result"
    }
   ],
   "source": [
    "#create model object\n",
    "logreg = LogisticRegression()\n",
    "\n",
    "#fit model object\n",
    "logreg.fit(x_train, y_train)\n",
    "\n",
    "#Predict model object\n",
    "logreg_pred = logreg.predict(x_test)\n",
    "\n",
    "#check accuracy\n",
    "logreg_acc = accuracy_score(logreg_pred, y_test)\n",
    "\n",
    "#Print accuracy\n",
    "print(\"Test accuracy: {:.2f}%\".format(logreg_acc*100))\n",
    "\n",
    "print(\"confusion matrix : \")\n",
    "confusion_matrix(logreg_pred, y_test)"
   ]
  },
  {
   "cell_type": "code",
   "execution_count": 41,
   "id": "dfa72f1f",
   "metadata": {},
   "outputs": [
    {
     "name": "stdout",
     "output_type": "stream",
     "text": [
      "              precision    recall  f1-score   support\n",
      "\n",
      "    Negative       0.80      0.83      0.81    154681\n",
      "    Positive       0.83      0.81      0.82    165319\n",
      "\n",
      "    accuracy                           0.82    320000\n",
      "   macro avg       0.82      0.82      0.82    320000\n",
      "weighted avg       0.82      0.82      0.82    320000\n",
      "\n"
     ]
    }
   ],
   "source": [
    "print(classification_report(logreg_pred, y_test))"
   ]
  },
  {
   "cell_type": "code",
   "execution_count": 42,
   "id": "609f28ed",
   "metadata": {},
   "outputs": [],
   "source": [
    "from matplotlib import style\n",
    "style.use('ggplot')"
   ]
  },
  {
   "cell_type": "code",
   "execution_count": 43,
   "id": "e5aeac91",
   "metadata": {},
   "outputs": [
    {
     "data": {
      "text/plain": [
       "<sklearn.metrics._plot.confusion_matrix.ConfusionMatrixDisplay at 0x1d4120e9910>"
      ]
     },
     "execution_count": 43,
     "metadata": {},
     "output_type": "execute_result"
    },
    {
     "data": {
      "image/png": "[encoded data removed]",
      "text/plain": [
       "<Figure size 640x480 with 2 Axes>"
      ]
     },
     "metadata": {},
     "output_type": "display_data"
    }
   ],
   "source": [
    "# Graphical representation for confusion matric\n",
    "style.use('classic')\n",
    "cm = confusion_matrix(y_test, logreg_pred, labels=logreg.classes_)\n",
    "disp = ConfusionMatrixDisplay(confusion_matrix = cm, display_labels=logreg.classes_)\n",
    "disp.plot()"
   ]
  },
  {
   "cell_type": "markdown",
   "id": "3894a432",
   "metadata": {},
   "source": [
    "### Model 2: Bernoulli Naive Bayes Classifier"
   ]
  },
  {
   "cell_type": "code",
   "execution_count": 44,
   "id": "f5638298",
   "metadata": {},
   "outputs": [
    {
     "name": "stdout",
     "output_type": "stream",
     "text": [
      "Test accuracy: 80.25%\n",
      "confusion matrix : \n"
     ]
    },
    {
     "data": {
      "text/plain": [
       "array([[130790,  34497],\n",
       "       [ 28704, 126009]], dtype=int64)"
      ]
     },
     "execution_count": 44,
     "metadata": {},
     "output_type": "execute_result"
    }
   ],
   "source": [
    "# Creating the model using on the training data set \n",
    "\n",
    "from sklearn.naive_bayes import BernoulliNB\n",
    "\n",
    "#create model object\n",
    "BNBmodel = BernoulliNB()\n",
    "\n",
    "# fit model\n",
    "BNBmodel.fit(x_train, y_train)\n",
    "\n",
    "#predict model\n",
    "BNBmodel_pred = BNBmodel.predict(x_test)\n",
    "\n",
    "# check accuracy\n",
    "BNBmodel_acc = accuracy_score(BNBmodel_pred, y_test)\n",
    "\n",
    "#Print  test accuracy\n",
    "print(\"Test accuracy: {:.2f}%\".format(BNBmodel_acc*100))\n",
    "\n",
    "\n",
    "print(\"confusion matrix : \")\n",
    "confusion_matrix(BNBmodel_pred, y_test)"
   ]
  },
  {
   "cell_type": "code",
   "execution_count": 45,
   "id": "73eafcb9",
   "metadata": {},
   "outputs": [
    {
     "name": "stdout",
     "output_type": "stream",
     "text": [
      "              precision    recall  f1-score   support\n",
      "\n",
      "    Negative       0.82      0.79      0.81    165287\n",
      "    Positive       0.79      0.81      0.80    154713\n",
      "\n",
      "    accuracy                           0.80    320000\n",
      "   macro avg       0.80      0.80      0.80    320000\n",
      "weighted avg       0.80      0.80      0.80    320000\n",
      "\n"
     ]
    }
   ],
   "source": [
    "print(classification_report(BNBmodel_pred, y_test))"
   ]
  },
  {
   "cell_type": "code",
   "execution_count": 46,
   "id": "1ebe60b7",
   "metadata": {},
   "outputs": [
    {
     "data": {
      "text/plain": [
       "<sklearn.metrics._plot.confusion_matrix.ConfusionMatrixDisplay at 0x1d4a1307fd0>"
      ]
     },
     "execution_count": 46,
     "metadata": {},
     "output_type": "execute_result"
    },
    {
     "data": {
      "image/png": "[encoded data removed]",
      "text/plain": [
       "<Figure size 640x480 with 2 Axes>"
      ]
     },
     "metadata": {},
     "output_type": "display_data"
    }
   ],
   "source": [
    "# Graphical representation for confusion matric\n",
    "style.use('classic')\n",
    "cm_1 = confusion_matrix(y_test,BNBmodel_pred , labels=BNBmodel.classes_)\n",
    "disp_1 = ConfusionMatrixDisplay(confusion_matrix = cm_1, display_labels=BNBmodel.classes_)\n",
    "disp_1.plot()"
   ]
  },
  {
   "cell_type": "markdown",
   "id": "b1488974",
   "metadata": {},
   "source": [
    "### Model 3: SVM (Support Vector Machine)"
   ]
  },
  {
   "cell_type": "code",
   "execution_count": 47,
   "id": "e6998378",
   "metadata": {},
   "outputs": [
    {
     "name": "stdout",
     "output_type": "stream",
     "text": [
      "Test accuracy: 82.18%\n",
      "confusion matrix : \n"
     ]
    },
    {
     "data": {
      "text/plain": [
       "array([[128723,  26266],\n",
       "       [ 30771, 134240]], dtype=int64)"
      ]
     },
     "execution_count": 47,
     "metadata": {},
     "output_type": "execute_result"
    }
   ],
   "source": [
    "# Creating the model using on the training data set \n",
    "\n",
    "from sklearn.svm import LinearSVC\n",
    "\n",
    "#create model object\n",
    "SVCmodel = LinearSVC()\n",
    "\n",
    "# fit model\n",
    "SVCmodel.fit(x_train, y_train)\n",
    "\n",
    "#predict model\n",
    "SVCmodel_pred = SVCmodel.predict(x_test)\n",
    "\n",
    "# check accuracy\n",
    "SVC_acc  = accuracy_score(SVCmodel_pred, y_test)\n",
    "\n",
    "#Print  test accuracy\n",
    "print(\"Test accuracy: {:.2f}%\".format(SVC_acc*100))\n",
    "\n",
    "print(\"confusion matrix : \" )\n",
    "confusion_matrix(SVCmodel_pred, y_test)"
   ]
  },
  {
   "cell_type": "code",
   "execution_count": 48,
   "id": "b7f3a99d",
   "metadata": {},
   "outputs": [
    {
     "name": "stdout",
     "output_type": "stream",
     "text": [
      "              precision    recall  f1-score   support\n",
      "\n",
      "    Negative       0.81      0.83      0.82    154989\n",
      "    Positive       0.84      0.81      0.82    165011\n",
      "\n",
      "    accuracy                           0.82    320000\n",
      "   macro avg       0.82      0.82      0.82    320000\n",
      "weighted avg       0.82      0.82      0.82    320000\n",
      "\n"
     ]
    }
   ],
   "source": [
    "print(classification_report(SVCmodel_pred, y_test))"
   ]
  },
  {
   "cell_type": "code",
   "execution_count": 49,
   "id": "39e85e7d",
   "metadata": {},
   "outputs": [
    {
     "data": {
      "text/plain": [
       "<sklearn.metrics._plot.confusion_matrix.ConfusionMatrixDisplay at 0x1d4a133a580>"
      ]
     },
     "execution_count": 49,
     "metadata": {},
     "output_type": "execute_result"
    },
    {
     "data": {
      "image/png": "[encoded data removed]",
      "text/plain": [
       "<Figure size 640x480 with 2 Axes>"
      ]
     },
     "metadata": {},
     "output_type": "display_data"
    }
   ],
   "source": [
    "# Graphical representation for confusion matric\n",
    "style.use('classic')\n",
    "cm_2 = confusion_matrix(y_test,SVCmodel_pred , labels=SVCmodel.classes_)\n",
    "disp_2 = ConfusionMatrixDisplay(confusion_matrix = cm_2, display_labels=SVCmodel.classes_)\n",
    "disp_2.plot()"
   ]
  },
  {
   "cell_type": "markdown",
   "id": "79288869",
   "metadata": {},
   "source": [
    "### Model Evaluation"
   ]
  },
  {
   "cell_type": "markdown",
   "id": "b6243b21",
   "metadata": {},
   "source": [
    "**Upon evaluating all the models, we can conclude the following details i.e.**\n",
    "\n",
    "- **Accuracy: As far as the accuracy of the model is concerned, SVM performs better than Logistic Regression, which in turn performs better than Bernoulli Naive Bayes.**\n",
    "\n",
    "- **F1-score: The F1 Scores for class 0 and class 1 are :**\n",
    "\n",
    "**(a) For class Negative: SVM (accuracy = 0.82) < Logistic Regression (accuracy = 0.81) = Bernoulli Naive Bayes (accuracy = 0.81)**\n",
    "\n",
    "**(b) For class Positive: SVM (accuracy = 0.82) = Logistic Regression (accuracy = 0.82) < Bernoulli Naive Bayes (accuracy = 0.80)**"
   ]
  },
  {
   "cell_type": "markdown",
   "id": "c3e99beb",
   "metadata": {},
   "source": [
    "#### We, therefore, conclude that the Support Vector Machine(SVM) is the best model for the above-given dataset."
   ]
  }
 ],
 "metadata": {
  "kernelspec": {
   "display_name": "Python 3 (ipykernel)",
   "language": "python",
   "name": "python3"
  },
  "language_info": {
   "codemirror_mode": {
    "name": "ipython",
    "version": 3
   },
   "file_extension": ".py",
   "mimetype": "text/x-python",
   "name": "python",
   "nbconvert_exporter": "python",
   "pygments_lexer": "ipython3",
   "version": "3.9.12"
  }
 },
 "nbformat": 4,
 "nbformat_minor": 5
}
